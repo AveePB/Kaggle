{
 "cells": [
  {
   "cell_type": "markdown",
   "metadata": {},
   "source": [
    "# Spaceship Titanic: Model Selection"
   ]
  },
  {
   "cell_type": "markdown",
   "metadata": {},
   "source": [
    "## Importing libraries"
   ]
  },
  {
   "cell_type": "code",
   "execution_count": 1,
   "metadata": {},
   "outputs": [],
   "source": [
    "import pandas as pd\n",
    "import numpy as np"
   ]
  },
  {
   "cell_type": "markdown",
   "metadata": {},
   "source": [
    "## Loading & preparing data"
   ]
  },
  {
   "cell_type": "code",
   "execution_count": 2,
   "metadata": {},
   "outputs": [],
   "source": [
    "df = pd.read_csv('./data/train.csv')"
   ]
  },
  {
   "cell_type": "code",
   "execution_count": 3,
   "metadata": {},
   "outputs": [
    {
     "data": {
      "text/html": [
       "<div>\n",
       "<style scoped>\n",
       "    .dataframe tbody tr th:only-of-type {\n",
       "        vertical-align: middle;\n",
       "    }\n",
       "\n",
       "    .dataframe tbody tr th {\n",
       "        vertical-align: top;\n",
       "    }\n",
       "\n",
       "    .dataframe thead th {\n",
       "        text-align: right;\n",
       "    }\n",
       "</style>\n",
       "<table border=\"1\" class=\"dataframe\">\n",
       "  <thead>\n",
       "    <tr style=\"text-align: right;\">\n",
       "      <th></th>\n",
       "      <th>CryoSleep</th>\n",
       "      <th>RoomService</th>\n",
       "      <th>Spa</th>\n",
       "      <th>VRDeck</th>\n",
       "      <th>Transported</th>\n",
       "      <th>HomePlanet_Earth</th>\n",
       "      <th>HomePlanet_Europa</th>\n",
       "      <th>HomePlanet_Mars</th>\n",
       "      <th>Destination_55 Cancri e</th>\n",
       "      <th>Destination_PSO J318.5-22</th>\n",
       "      <th>Destination_TRAPPIST-1e</th>\n",
       "    </tr>\n",
       "  </thead>\n",
       "  <tbody>\n",
       "    <tr>\n",
       "      <th>0</th>\n",
       "      <td>0</td>\n",
       "      <td>-0.340590</td>\n",
       "      <td>-0.276663</td>\n",
       "      <td>-0.269023</td>\n",
       "      <td>0</td>\n",
       "      <td>0</td>\n",
       "      <td>1</td>\n",
       "      <td>0</td>\n",
       "      <td>0</td>\n",
       "      <td>0</td>\n",
       "      <td>1</td>\n",
       "    </tr>\n",
       "    <tr>\n",
       "      <th>1</th>\n",
       "      <td>0</td>\n",
       "      <td>-0.175364</td>\n",
       "      <td>0.211505</td>\n",
       "      <td>-0.230194</td>\n",
       "      <td>1</td>\n",
       "      <td>1</td>\n",
       "      <td>0</td>\n",
       "      <td>0</td>\n",
       "      <td>0</td>\n",
       "      <td>0</td>\n",
       "      <td>1</td>\n",
       "    </tr>\n",
       "  </tbody>\n",
       "</table>\n",
       "</div>"
      ],
      "text/plain": [
       "   CryoSleep  RoomService       Spa    VRDeck  Transported  HomePlanet_Earth  \\\n",
       "0          0    -0.340590 -0.276663 -0.269023            0                 0   \n",
       "1          0    -0.175364  0.211505 -0.230194            1                 1   \n",
       "\n",
       "   HomePlanet_Europa  HomePlanet_Mars  Destination_55 Cancri e  \\\n",
       "0                  1                0                        0   \n",
       "1                  0                0                        0   \n",
       "\n",
       "   Destination_PSO J318.5-22  Destination_TRAPPIST-1e  \n",
       "0                          0                        1  \n",
       "1                          0                        1  "
      ]
     },
     "execution_count": 3,
     "metadata": {},
     "output_type": "execute_result"
    }
   ],
   "source": [
    "df.head(2)"
   ]
  },
  {
   "cell_type": "code",
   "execution_count": 4,
   "metadata": {},
   "outputs": [],
   "source": [
    "X = df.loc[:, df.columns != 'Transported'].values\n",
    "y = df.loc[:, 'Transported'].values"
   ]
  },
  {
   "cell_type": "code",
   "execution_count": 5,
   "metadata": {},
   "outputs": [
    {
     "data": {
      "text/plain": [
       "array([[ 0.        , -0.34058987, -0.27666342, ...,  0.        ,\n",
       "         0.        ,  1.        ],\n",
       "       [ 0.        , -0.1753636 ,  0.2115053 , ...,  0.        ,\n",
       "         0.        ,  1.        ],\n",
       "       [ 0.        , -0.27540886,  5.69428913, ...,  0.        ,\n",
       "         0.        ,  1.        ],\n",
       "       ...,\n",
       "       [ 0.        , -0.34058987, -0.27577423, ...,  0.        ,\n",
       "         0.        ,  1.        ],\n",
       "       [ 0.        , -0.34058987,  0.03722284, ...,  1.        ,\n",
       "         0.        ,  0.        ],\n",
       "       [ 0.        , -0.14959437, -0.27666342, ...,  0.        ,\n",
       "         0.        ,  1.        ]])"
      ]
     },
     "execution_count": 5,
     "metadata": {},
     "output_type": "execute_result"
    }
   ],
   "source": [
    "X"
   ]
  },
  {
   "cell_type": "code",
   "execution_count": 6,
   "metadata": {},
   "outputs": [
    {
     "data": {
      "text/plain": [
       "array([0, 1, 0, ..., 1, 0, 1], dtype=int64)"
      ]
     },
     "execution_count": 6,
     "metadata": {},
     "output_type": "execute_result"
    }
   ],
   "source": [
    "y"
   ]
  },
  {
   "cell_type": "code",
   "execution_count": 7,
   "metadata": {},
   "outputs": [],
   "source": [
    "from sklearn.model_selection import train_test_split\n",
    "\n",
    "\n",
    "X_train, X_test, y_train, y_test = train_test_split(X, y, test_size=0.2, random_state=422)"
   ]
  },
  {
   "cell_type": "markdown",
   "metadata": {},
   "source": [
    "## Training ML models"
   ]
  },
  {
   "cell_type": "code",
   "execution_count": 20,
   "metadata": {},
   "outputs": [],
   "source": [
    "from sklearn.metrics import accuracy_score, confusion_matrix\n",
    "from sklearn.model_selection import cross_val_score\n",
    "\n",
    "def train_test_model(model):\n",
    "    model.fit(X_train, y_train)\n",
    "    y_pred = model.predict(X_test)\n",
    "\n",
    "    cv_scores = cross_val_score(model, X, y)\n",
    "    accuracy = accuracy_score(y_test, y_pred)\n",
    "    cm = confusion_matrix(y_test, y_pred)\n",
    "\n",
    "    print(\"\\nModel Name:\", type(model))\n",
    "    print(\"Cross Validation Scores:\", cv_scores, '~', cv_scores.mean())\n",
    "    print(\"Accuracy Score:\", accuracy)\n",
    "    print(\"Confusion Matrix:\\n\", cm)\n"
   ]
  },
  {
   "cell_type": "code",
   "execution_count": 23,
   "metadata": {},
   "outputs": [
    {
     "name": "stdout",
     "output_type": "stream",
     "text": [
      "\n",
      "Model Name: <class 'xgboost.sklearn.XGBClassifier'>\n",
      "Cross Validation Scores: [0.76423232 0.76308223 0.76998275 0.79516686 0.77502877] ~ 0.77349858489099\n",
      "Accuracy Score: 0.7780333525014376\n",
      "Confusion Matrix:\n",
      " [[612 247]\n",
      " [139 741]]\n",
      "\n",
      "Model Name: <class 'sklearn.linear_model._logistic.LogisticRegression'>\n",
      "Cross Validation Scores: [0.76883266 0.7613571  0.76193214 0.75776755 0.78365938] ~ 0.7667097673292125\n",
      "Accuracy Score: 0.7636572742955722\n",
      "Confusion Matrix:\n",
      " [[673 186]\n",
      " [225 655]]\n",
      "\n",
      "Model Name: <class 'sklearn.neighbors._classification.KNeighborsClassifier'>\n",
      "Cross Validation Scores: [0.68200115 0.74008051 0.74640598 0.75949367 0.7589183 ] ~ 0.7373799208703599\n",
      "Accuracy Score: 0.7469810235767682\n",
      "Confusion Matrix:\n",
      " [[645 214]\n",
      " [226 654]]\n",
      "\n",
      "Model Name: <class 'sklearn.tree._classes.DecisionTreeClassifier'>\n",
      "Cross Validation Scores: [0.71937895 0.7320299  0.73835538 0.74683544 0.74453395] ~ 0.7362267244841982\n",
      "Accuracy Score: 0.7423806785508913\n",
      "Confusion Matrix:\n",
      " [[561 298]\n",
      " [150 730]]\n",
      "\n",
      "Model Name: <class 'sklearn.ensemble._forest.RandomForestClassifier'>\n",
      "Cross Validation Scores: [0.74525589 0.76308223 0.76480736 0.76697353 0.78193326] ~ 0.7644104550649123\n",
      "Accuracy Score: 0.7699827487061529\n",
      "Confusion Matrix:\n",
      " [[611 248]\n",
      " [152 728]]\n",
      "\n",
      "Model Name: <class 'sklearn.svm._classes.SVC'>\n",
      "Cross Validation Scores: [0.76998275 0.77458309 0.77745831 0.79401611 0.7986191 ] ~ 0.7829318729399526\n",
      "Accuracy Score: 0.7855089131684876\n",
      "Confusion Matrix:\n",
      " [[624 235]\n",
      " [138 742]]\n"
     ]
    }
   ],
   "source": [
    "from xgboost import XGBClassifier\n",
    "from sklearn.linear_model import LogisticRegression\n",
    "from sklearn.neighbors import KNeighborsClassifier\n",
    "from sklearn.tree import DecisionTreeClassifier\n",
    "from sklearn.ensemble import RandomForestClassifier\n",
    "from sklearn.svm import SVC\n",
    "\n",
    "models = []\n",
    "\n",
    "models.append(XGBClassifier())\n",
    "models.append(LogisticRegression())\n",
    "models.append(KNeighborsClassifier())\n",
    "models.append(DecisionTreeClassifier())\n",
    "models.append(RandomForestClassifier())\n",
    "models.append(SVC())\n",
    "\n",
    "for model in models:\n",
    "    train_test_model(model)"
   ]
  },
  {
   "cell_type": "markdown",
   "metadata": {},
   "source": [
    "### Conclusion\n",
    "After training & testing models we want to tune  the best four. These are **XGBClassifier**(0.773), **Logistic Regression**(0.766), **RandomForestClassifer**(0.764), **SVC**(0.782)."
   ]
  }
 ],
 "metadata": {
  "kernelspec": {
   "display_name": "Python 3",
   "language": "python",
   "name": "python3"
  },
  "language_info": {
   "codemirror_mode": {
    "name": "ipython",
    "version": 3
   },
   "file_extension": ".py",
   "mimetype": "text/x-python",
   "name": "python",
   "nbconvert_exporter": "python",
   "pygments_lexer": "ipython3",
   "version": "3.12.2"
  }
 },
 "nbformat": 4,
 "nbformat_minor": 2
}
