{
 "cells": [
  {
   "cell_type": "markdown",
   "metadata": {},
   "source": [
    "<h2>Data Preprocessing - Most Streamed Spotify Songs 2024</h2>"
   ]
  },
  {
   "cell_type": "markdown",
   "metadata": {},
   "source": [
    "<h3>Importing libraries</h3>"
   ]
  },
  {
   "cell_type": "code",
   "execution_count": 1,
   "metadata": {},
   "outputs": [],
   "source": [
    "import matplotlib.pyplot as plt\n",
    "import numpy as np\n",
    "import pandas as pd"
   ]
  },
  {
   "cell_type": "markdown",
   "metadata": {},
   "source": [
    "<h3>Loading dataset</h3>"
   ]
  },
  {
   "cell_type": "code",
   "execution_count": 2,
   "metadata": {},
   "outputs": [],
   "source": [
    "df = pd.read_csv(\"./data/spotify_data.csv\", encoding=\"ISO-8859-1\")"
   ]
  },
  {
   "cell_type": "code",
   "execution_count": 3,
   "metadata": {},
   "outputs": [
    {
     "name": "stdout",
     "output_type": "stream",
     "text": [
      "<class 'pandas.core.frame.DataFrame'>\n",
      "RangeIndex: 4600 entries, 0 to 4599\n",
      "Data columns (total 29 columns):\n",
      " #   Column                      Non-Null Count  Dtype  \n",
      "---  ------                      --------------  -----  \n",
      " 0   Track                       4600 non-null   object \n",
      " 1   Album Name                  4600 non-null   object \n",
      " 2   Artist                      4595 non-null   object \n",
      " 3   Release Date                4600 non-null   object \n",
      " 4   ISRC                        4600 non-null   object \n",
      " 5   All Time Rank               4600 non-null   object \n",
      " 6   Track Score                 4600 non-null   float64\n",
      " 7   Spotify Streams             4487 non-null   object \n",
      " 8   Spotify Playlist Count      4530 non-null   object \n",
      " 9   Spotify Playlist Reach      4528 non-null   object \n",
      " 10  Spotify Popularity          3796 non-null   float64\n",
      " 11  YouTube Views               4292 non-null   object \n",
      " 12  YouTube Likes               4285 non-null   object \n",
      " 13  TikTok Posts                3427 non-null   object \n",
      " 14  TikTok Likes                3620 non-null   object \n",
      " 15  TikTok Views                3619 non-null   object \n",
      " 16  YouTube Playlist Reach      3591 non-null   object \n",
      " 17  Apple Music Playlist Count  4039 non-null   float64\n",
      " 18  AirPlay Spins               4102 non-null   object \n",
      " 19  SiriusXM Spins              2477 non-null   object \n",
      " 20  Deezer Playlist Count       3679 non-null   float64\n",
      " 21  Deezer Playlist Reach       3672 non-null   object \n",
      " 22  Amazon Playlist Count       3545 non-null   float64\n",
      " 23  Pandora Streams             3494 non-null   object \n",
      " 24  Pandora Track Stations      3332 non-null   object \n",
      " 25  Soundcloud Streams          1267 non-null   object \n",
      " 26  Shazam Counts               4023 non-null   object \n",
      " 27  TIDAL Popularity            0 non-null      float64\n",
      " 28  Explicit Track              4600 non-null   int64  \n",
      "dtypes: float64(6), int64(1), object(22)\n",
      "memory usage: 1.0+ MB\n"
     ]
    }
   ],
   "source": [
    "df.info()"
   ]
  },
  {
   "cell_type": "code",
   "execution_count": 4,
   "metadata": {},
   "outputs": [],
   "source": [
    "df.drop(columns=[\"TIDAL Popularity\", \"SiriusXM Spins\", \"Soundcloud Streams\"], inplace=True)"
   ]
  },
  {
   "cell_type": "markdown",
   "metadata": {},
   "source": [
    "<h3>Handle Continuous Columns</h3>"
   ]
  },
  {
   "cell_type": "code",
   "execution_count": 5,
   "metadata": {},
   "outputs": [],
   "source": [
    "df_continuous = df.select_dtypes(include=[\"float64\"])"
   ]
  },
  {
   "cell_type": "code",
   "execution_count": 6,
   "metadata": {},
   "outputs": [
    {
     "name": "stdout",
     "output_type": "stream",
     "text": [
      "<class 'pandas.core.frame.DataFrame'>\n",
      "RangeIndex: 4600 entries, 0 to 4599\n",
      "Data columns (total 5 columns):\n",
      " #   Column                      Non-Null Count  Dtype  \n",
      "---  ------                      --------------  -----  \n",
      " 0   Track Score                 4600 non-null   float64\n",
      " 1   Spotify Popularity          3796 non-null   float64\n",
      " 2   Apple Music Playlist Count  4039 non-null   float64\n",
      " 3   Deezer Playlist Count       3679 non-null   float64\n",
      " 4   Amazon Playlist Count       3545 non-null   float64\n",
      "dtypes: float64(5)\n",
      "memory usage: 179.8 KB\n"
     ]
    }
   ],
   "source": [
    "df_continuous.info()"
   ]
  },
  {
   "cell_type": "markdown",
   "metadata": {},
   "source": [
    "<h4>Taking care of NaNs (Dummy Variable & Mean)</h4>"
   ]
  },
  {
   "cell_type": "code",
   "execution_count": 7,
   "metadata": {},
   "outputs": [],
   "source": [
    "COLS = [\"Spotify Popularity\", \"Apple Music Playlist Count\", \"Deezer Playlist Count\", \"Amazon Playlist Count\"]\n",
    "\n",
    "for col in COLS:\n",
    "    df_continuous[f\"{col} is NaN\"] = df_continuous[col].isna().astype(int)"
   ]
  },
  {
   "cell_type": "code",
   "execution_count": 8,
   "metadata": {},
   "outputs": [],
   "source": [
    "from sklearn.impute import SimpleImputer\n",
    "\n",
    "df_continuous[COLS] = SimpleImputer(strategy=\"mean\").fit_transform(df_continuous[COLS])"
   ]
  },
  {
   "cell_type": "code",
   "execution_count": 9,
   "metadata": {},
   "outputs": [
    {
     "name": "stdout",
     "output_type": "stream",
     "text": [
      "<class 'pandas.core.frame.DataFrame'>\n",
      "RangeIndex: 4600 entries, 0 to 4599\n",
      "Data columns (total 9 columns):\n",
      " #   Column                             Non-Null Count  Dtype  \n",
      "---  ------                             --------------  -----  \n",
      " 0   Track Score                        4600 non-null   float64\n",
      " 1   Spotify Popularity                 4600 non-null   float64\n",
      " 2   Apple Music Playlist Count         4600 non-null   float64\n",
      " 3   Deezer Playlist Count              4600 non-null   float64\n",
      " 4   Amazon Playlist Count              4600 non-null   float64\n",
      " 5   Spotify Popularity is NaN          4600 non-null   int32  \n",
      " 6   Apple Music Playlist Count is NaN  4600 non-null   int32  \n",
      " 7   Deezer Playlist Count is NaN       4600 non-null   int32  \n",
      " 8   Amazon Playlist Count is NaN       4600 non-null   int32  \n",
      "dtypes: float64(5), int32(4)\n",
      "memory usage: 251.7 KB\n"
     ]
    }
   ],
   "source": [
    "df_continuous.info()"
   ]
  },
  {
   "cell_type": "markdown",
   "metadata": {},
   "source": [
    "<h3>Handle Categorical Columns</h3>"
   ]
  },
  {
   "cell_type": "code",
   "execution_count": 10,
   "metadata": {},
   "outputs": [],
   "source": [
    "df_categorical = df.select_dtypes(include=\"object\")"
   ]
  },
  {
   "cell_type": "code",
   "execution_count": 11,
   "metadata": {},
   "outputs": [
    {
     "name": "stdout",
     "output_type": "stream",
     "text": [
      "<class 'pandas.core.frame.DataFrame'>\n",
      "RangeIndex: 4600 entries, 0 to 4599\n",
      "Data columns (total 20 columns):\n",
      " #   Column                  Non-Null Count  Dtype \n",
      "---  ------                  --------------  ----- \n",
      " 0   Track                   4600 non-null   object\n",
      " 1   Album Name              4600 non-null   object\n",
      " 2   Artist                  4595 non-null   object\n",
      " 3   Release Date            4600 non-null   object\n",
      " 4   ISRC                    4600 non-null   object\n",
      " 5   All Time Rank           4600 non-null   object\n",
      " 6   Spotify Streams         4487 non-null   object\n",
      " 7   Spotify Playlist Count  4530 non-null   object\n",
      " 8   Spotify Playlist Reach  4528 non-null   object\n",
      " 9   YouTube Views           4292 non-null   object\n",
      " 10  YouTube Likes           4285 non-null   object\n",
      " 11  TikTok Posts            3427 non-null   object\n",
      " 12  TikTok Likes            3620 non-null   object\n",
      " 13  TikTok Views            3619 non-null   object\n",
      " 14  YouTube Playlist Reach  3591 non-null   object\n",
      " 15  AirPlay Spins           4102 non-null   object\n",
      " 16  Deezer Playlist Reach   3672 non-null   object\n",
      " 17  Pandora Streams         3494 non-null   object\n",
      " 18  Pandora Track Stations  3332 non-null   object\n",
      " 19  Shazam Counts           4023 non-null   object\n",
      "dtypes: object(20)\n",
      "memory usage: 718.9+ KB\n"
     ]
    }
   ],
   "source": [
    "df_categorical.info()"
   ]
  },
  {
   "cell_type": "markdown",
   "metadata": {},
   "source": [
    "<h4>Transforming string numbers into float64 or int64</h4>"
   ]
  },
  {
   "cell_type": "code",
   "execution_count": 12,
   "metadata": {},
   "outputs": [],
   "source": [
    "COLS = ['Spotify Streams', 'Spotify Playlist Count','Spotify Playlist Reach', \n",
    "        'YouTube Views', 'YouTube Likes','TikTok Posts', 'TikTok Likes', \n",
    "        'TikTok Views','YouTube Playlist Reach', 'AirPlay Spins', \n",
    "        'Deezer Playlist Reach', 'Pandora Streams', \n",
    "        'Pandora Track Stations', 'Shazam Counts']\n",
    "\n",
    "for col in COLS:\n",
    "    df_categorical[f\"{col} is NaN\"] = df_categorical[col].isna().astype(int)\n",
    "    df_categorical[col] = df_categorical[col].str.replace(\",\", \"\").astype(\"float64\")"
   ]
  },
  {
   "cell_type": "code",
   "execution_count": 13,
   "metadata": {},
   "outputs": [],
   "source": [
    "df_categorical[\"All Time Rank\"] = df_categorical[\"All Time Rank\"].str.replace(\",\", \"\").astype(\"int64\")"
   ]
  },
  {
   "cell_type": "markdown",
   "metadata": {},
   "source": [
    "<h4>Taking care of NaNs</h4>"
   ]
  },
  {
   "cell_type": "code",
   "execution_count": 14,
   "metadata": {},
   "outputs": [],
   "source": [
    "from sklearn.impute import SimpleImputer\n",
    "\n",
    "df_categorical[COLS] = SimpleImputer(strategy=\"mean\").fit_transform(df_categorical[COLS])"
   ]
  },
  {
   "cell_type": "code",
   "execution_count": 15,
   "metadata": {},
   "outputs": [],
   "source": [
    "COLS = [\"Track\", \"Album Name\", \"Artist\", \"Release Date\", \"ISRC\"]\n",
    "\n",
    "df_categorical.drop(columns=COLS, inplace=True)"
   ]
  },
  {
   "cell_type": "code",
   "execution_count": 16,
   "metadata": {},
   "outputs": [
    {
     "name": "stdout",
     "output_type": "stream",
     "text": [
      "<class 'pandas.core.frame.DataFrame'>\n",
      "RangeIndex: 4600 entries, 0 to 4599\n",
      "Data columns (total 29 columns):\n",
      " #   Column                         Non-Null Count  Dtype  \n",
      "---  ------                         --------------  -----  \n",
      " 0   All Time Rank                  4600 non-null   int64  \n",
      " 1   Spotify Streams                4600 non-null   float64\n",
      " 2   Spotify Playlist Count         4600 non-null   float64\n",
      " 3   Spotify Playlist Reach         4600 non-null   float64\n",
      " 4   YouTube Views                  4600 non-null   float64\n",
      " 5   YouTube Likes                  4600 non-null   float64\n",
      " 6   TikTok Posts                   4600 non-null   float64\n",
      " 7   TikTok Likes                   4600 non-null   float64\n",
      " 8   TikTok Views                   4600 non-null   float64\n",
      " 9   YouTube Playlist Reach         4600 non-null   float64\n",
      " 10  AirPlay Spins                  4600 non-null   float64\n",
      " 11  Deezer Playlist Reach          4600 non-null   float64\n",
      " 12  Pandora Streams                4600 non-null   float64\n",
      " 13  Pandora Track Stations         4600 non-null   float64\n",
      " 14  Shazam Counts                  4600 non-null   float64\n",
      " 15  Spotify Streams is NaN         4600 non-null   int32  \n",
      " 16  Spotify Playlist Count is NaN  4600 non-null   int32  \n",
      " 17  Spotify Playlist Reach is NaN  4600 non-null   int32  \n",
      " 18  YouTube Views is NaN           4600 non-null   int32  \n",
      " 19  YouTube Likes is NaN           4600 non-null   int32  \n",
      " 20  TikTok Posts is NaN            4600 non-null   int32  \n",
      " 21  TikTok Likes is NaN            4600 non-null   int32  \n",
      " 22  TikTok Views is NaN            4600 non-null   int32  \n",
      " 23  YouTube Playlist Reach is NaN  4600 non-null   int32  \n",
      " 24  AirPlay Spins is NaN           4600 non-null   int32  \n",
      " 25  Deezer Playlist Reach is NaN   4600 non-null   int32  \n",
      " 26  Pandora Streams is NaN         4600 non-null   int32  \n",
      " 27  Pandora Track Stations is NaN  4600 non-null   int32  \n",
      " 28  Shazam Counts is NaN           4600 non-null   int32  \n",
      "dtypes: float64(14), int32(14), int64(1)\n",
      "memory usage: 790.8 KB\n"
     ]
    }
   ],
   "source": [
    "df_categorical.info()"
   ]
  },
  {
   "cell_type": "markdown",
   "metadata": {},
   "source": [
    "<h3>Saving the data</h3>"
   ]
  },
  {
   "cell_type": "code",
   "execution_count": 17,
   "metadata": {},
   "outputs": [],
   "source": [
    "df_spotify = pd.concat([df_categorical, df_continuous], axis=1)"
   ]
  },
  {
   "cell_type": "code",
   "execution_count": 18,
   "metadata": {},
   "outputs": [],
   "source": [
    "df_spotify.to_csv(\"./data/train_spotify_data.csv\", index=False)"
   ]
  }
 ],
 "metadata": {
  "kernelspec": {
   "display_name": "Python 3",
   "language": "python",
   "name": "python3"
  },
  "language_info": {
   "codemirror_mode": {
    "name": "ipython",
    "version": 3
   },
   "file_extension": ".py",
   "mimetype": "text/x-python",
   "name": "python",
   "nbconvert_exporter": "python",
   "pygments_lexer": "ipython3",
   "version": "3.12.2"
  }
 },
 "nbformat": 4,
 "nbformat_minor": 2
}
