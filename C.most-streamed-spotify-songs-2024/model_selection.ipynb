{
 "cells": [
  {
   "cell_type": "markdown",
   "metadata": {},
   "source": [
    "<h2>Model Selection - Most Streamed Spotify Songs 2024</h2>"
   ]
  },
  {
   "cell_type": "markdown",
   "metadata": {},
   "source": [
    "<h3>Importing libraries</h3>"
   ]
  },
  {
   "cell_type": "code",
   "execution_count": 1,
   "metadata": {},
   "outputs": [],
   "source": [
    "import matplotlib.pyplot as plt\n",
    "import numpy as np\n",
    "import pandas as pd"
   ]
  },
  {
   "cell_type": "markdown",
   "metadata": {},
   "source": [
    "<h3>Loading the dataset</h3>"
   ]
  },
  {
   "cell_type": "code",
   "execution_count": 2,
   "metadata": {},
   "outputs": [],
   "source": [
    "df = pd.read_csv(\"./data/train_spotify_data.csv\")"
   ]
  },
  {
   "cell_type": "code",
   "execution_count": 3,
   "metadata": {},
   "outputs": [
    {
     "name": "stdout",
     "output_type": "stream",
     "text": [
      "<class 'pandas.core.frame.DataFrame'>\n",
      "RangeIndex: 4600 entries, 0 to 4599\n",
      "Data columns (total 38 columns):\n",
      " #   Column                             Non-Null Count  Dtype  \n",
      "---  ------                             --------------  -----  \n",
      " 0   All Time Rank                      4600 non-null   int64  \n",
      " 1   Spotify Streams                    4600 non-null   float64\n",
      " 2   Spotify Playlist Count             4600 non-null   float64\n",
      " 3   Spotify Playlist Reach             4600 non-null   float64\n",
      " 4   YouTube Views                      4600 non-null   float64\n",
      " 5   YouTube Likes                      4600 non-null   float64\n",
      " 6   TikTok Posts                       4600 non-null   float64\n",
      " 7   TikTok Likes                       4600 non-null   float64\n",
      " 8   TikTok Views                       4600 non-null   float64\n",
      " 9   YouTube Playlist Reach             4600 non-null   float64\n",
      " 10  AirPlay Spins                      4600 non-null   float64\n",
      " 11  Deezer Playlist Reach              4600 non-null   float64\n",
      " 12  Pandora Streams                    4600 non-null   float64\n",
      " 13  Pandora Track Stations             4600 non-null   float64\n",
      " 14  Shazam Counts                      4600 non-null   float64\n",
      " 15  Spotify Streams is NaN             4600 non-null   int64  \n",
      " 16  Spotify Playlist Count is NaN      4600 non-null   int64  \n",
      " 17  Spotify Playlist Reach is NaN      4600 non-null   int64  \n",
      " 18  YouTube Views is NaN               4600 non-null   int64  \n",
      " 19  YouTube Likes is NaN               4600 non-null   int64  \n",
      " 20  TikTok Posts is NaN                4600 non-null   int64  \n",
      " 21  TikTok Likes is NaN                4600 non-null   int64  \n",
      " 22  TikTok Views is NaN                4600 non-null   int64  \n",
      " 23  YouTube Playlist Reach is NaN      4600 non-null   int64  \n",
      " 24  AirPlay Spins is NaN               4600 non-null   int64  \n",
      " 25  Deezer Playlist Reach is NaN       4600 non-null   int64  \n",
      " 26  Pandora Streams is NaN             4600 non-null   int64  \n",
      " 27  Pandora Track Stations is NaN      4600 non-null   int64  \n",
      " 28  Shazam Counts is NaN               4600 non-null   int64  \n",
      " 29  Track Score                        4600 non-null   float64\n",
      " 30  Spotify Popularity                 4600 non-null   float64\n",
      " 31  Apple Music Playlist Count         4600 non-null   float64\n",
      " 32  Deezer Playlist Count              4600 non-null   float64\n",
      " 33  Amazon Playlist Count              4600 non-null   float64\n",
      " 34  Spotify Popularity is NaN          4600 non-null   int64  \n",
      " 35  Apple Music Playlist Count is NaN  4600 non-null   int64  \n",
      " 36  Deezer Playlist Count is NaN       4600 non-null   int64  \n",
      " 37  Amazon Playlist Count is NaN       4600 non-null   int64  \n",
      "dtypes: float64(19), int64(19)\n",
      "memory usage: 1.3 MB\n"
     ]
    }
   ],
   "source": [
    "df.info()"
   ]
  },
  {
   "cell_type": "code",
   "execution_count": 4,
   "metadata": {},
   "outputs": [],
   "source": [
    "X = df.iloc[:, df.columns != \"All Time Rank\"].values\n",
    "y = df.iloc[:, df.columns == \"All Time Rank\"].values.reshape(-1)"
   ]
  },
  {
   "cell_type": "code",
   "execution_count": 5,
   "metadata": {},
   "outputs": [],
   "source": [
    "from sklearn.model_selection import train_test_split\n",
    "\n",
    "X_train, X_test, y_train, y_test = train_test_split(X, y, test_size=0.2, random_state=32)"
   ]
  },
  {
   "cell_type": "markdown",
   "metadata": {},
   "source": [
    "<h3>Selecting the model</h3>"
   ]
  },
  {
   "cell_type": "code",
   "execution_count": 6,
   "metadata": {},
   "outputs": [],
   "source": [
    "from sklearn.ensemble import RandomForestRegressor\n",
    "from sklearn.tree import DecisionTreeRegressor\n",
    "from sklearn.linear_model import LinearRegression\n",
    "from xgboost import XGBRegressor\n",
    "\n",
    "models = []\n",
    "models.append(RandomForestRegressor())\n",
    "models.append(DecisionTreeRegressor())\n",
    "models.append(LinearRegression())\n",
    "models.append(XGBRegressor())\n"
   ]
  },
  {
   "cell_type": "code",
   "execution_count": 7,
   "metadata": {},
   "outputs": [
    {
     "name": "stdout",
     "output_type": "stream",
     "text": [
      "<class 'sklearn.ensemble._forest.RandomForestRegressor'> is done with training...\n",
      "MAE: 7.251445652173915\n",
      "MSE: 943.79911902174\n",
      "R2: 0.999452821727787 \n",
      "\n",
      "<class 'sklearn.tree._classes.DecisionTreeRegressor'> is done with training...\n",
      "MAE: 8.056521739130435\n",
      "MSE: 868.5413043478261\n",
      "R2: 0.9994964533016821 \n",
      "\n",
      "<class 'sklearn.linear_model._base.LinearRegression'> is done with training...\n",
      "MAE: 831.9542578469311\n",
      "MSE: 983083.7600225242\n",
      "R2: 0.4300460104186631 \n",
      "\n",
      "<class 'xgboost.sklearn.XGBRegressor'> is done with training...\n",
      "MAE: 9.740742313343546\n",
      "MSE: 694.174952879996\n",
      "R2: 0.9995975494384766 \n",
      "\n"
     ]
    }
   ],
   "source": [
    "from sklearn.metrics import mean_absolute_error, mean_squared_error, r2_score\n",
    "\n",
    "for model in models:\n",
    "    model.fit(X_train, y_train)\n",
    "    y_pred = model.predict(X_test)\n",
    "\n",
    "    print(type(model), \"is done with training...\")\n",
    "    print(\"MAE:\", mean_absolute_error(y_test, y_pred))\n",
    "    print(\"MSE:\", mean_squared_error(y_test, y_pred))\n",
    "    print(\"R2:\", r2_score(y_test, y_pred), \"\\n\")"
   ]
  },
  {
   "cell_type": "markdown",
   "metadata": {},
   "source": [
    "<h3>Conclusion</h3>\n",
    "\n",
    "We've tested a few regression models in order to know: which one is the most suitable to predict the rank of all time. We base the output on the reach of many platforms. The best ones are: ***Random Forest***, ***Decision Tree***, ***XGB Regressor***."
   ]
  }
 ],
 "metadata": {
  "kernelspec": {
   "display_name": "Python 3",
   "language": "python",
   "name": "python3"
  },
  "language_info": {
   "codemirror_mode": {
    "name": "ipython",
    "version": 3
   },
   "file_extension": ".py",
   "mimetype": "text/x-python",
   "name": "python",
   "nbconvert_exporter": "python",
   "pygments_lexer": "ipython3",
   "version": "3.12.2"
  }
 },
 "nbformat": 4,
 "nbformat_minor": 2
}
