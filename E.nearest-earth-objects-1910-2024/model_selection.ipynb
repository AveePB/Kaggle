{
 "cells": [
  {
   "cell_type": "markdown",
   "metadata": {},
   "source": [
    "## Nearest Earth Objects 1910-2024: Model Selection"
   ]
  },
  {
   "cell_type": "markdown",
   "metadata": {},
   "source": [
    "### Importing libraries"
   ]
  },
  {
   "cell_type": "code",
   "execution_count": 1,
   "metadata": {},
   "outputs": [],
   "source": [
    "from IPython.display import display, HTML\n",
    "import matplotlib.pyplot as plt\n",
    "import seaborn as sns\n",
    "import numpy as np\n",
    "import pandas as pd"
   ]
  },
  {
   "cell_type": "markdown",
   "metadata": {},
   "source": [
    "### Loading datasets"
   ]
  },
  {
   "cell_type": "code",
   "execution_count": 2,
   "metadata": {},
   "outputs": [],
   "source": [
    "FEATURES = ['absolute_magnitude', 'estimated_diameter_max', 'relative_velocity']\n",
    "TARGET_VARIABLE = 'is_hazardous'"
   ]
  },
  {
   "cell_type": "code",
   "execution_count": 3,
   "metadata": {},
   "outputs": [],
   "source": [
    "df_normalized = pd.read_csv('./data/normalized_data.csv')\n",
    "df_standardized = pd.read_csv('./data/standardized_data.csv')"
   ]
  },
  {
   "cell_type": "markdown",
   "metadata": {},
   "source": [
    "### Training & Evaluating models"
   ]
  },
  {
   "cell_type": "code",
   "execution_count": 4,
   "metadata": {},
   "outputs": [],
   "source": [
    "from sklearn.model_selection import train_test_split, cross_val_score\n",
    "from sklearn.metrics import accuracy_score, confusion_matrix\n",
    "\n",
    "def evaluateModelPreformance(df, model):\n",
    "    X = df[FEATURES].values\n",
    "    y = df[TARGET_VARIABLE].values\n",
    "\n",
    "    X_train, X_test, y_train, y_test = train_test_split(X, y, test_size=0.2, random_state=273)\n",
    "    \n",
    "    print(type(model), 'has started training')\n",
    "    model.fit(X_train, y_train)\n",
    "    print(type(model), 'has completed training')\n",
    "\n",
    "    y_pred = model.predict(X_test)\n",
    "    cv_scores = cross_val_score(model, X, y)\n",
    "    cm = confusion_matrix(y_test, y_pred)\n",
    "    accuracy = accuracy_score(y_test, y_pred)\n",
    "\n",
    "    print('Cross Validation Scores: ', cv_scores, '~', cv_scores.mean())\n",
    "    print('Confusion matrix:\\n', cm)\n",
    "    print('Accuracy:', accuracy, '\\n')"
   ]
  },
  {
   "cell_type": "markdown",
   "metadata": {},
   "source": [
    "#### Logistic Regression"
   ]
  },
  {
   "cell_type": "code",
   "execution_count": 5,
   "metadata": {},
   "outputs": [],
   "source": [
    "from sklearn.linear_model import LogisticRegression"
   ]
  },
  {
   "cell_type": "code",
   "execution_count": 6,
   "metadata": {},
   "outputs": [
    {
     "name": "stdout",
     "output_type": "stream",
     "text": [
      "<class 'sklearn.linear_model._logistic.LogisticRegression'> has started training\n",
      "<class 'sklearn.linear_model._logistic.LogisticRegression'> has completed training\n",
      "Cross Validation Scores:  [0.87235899 0.87237188 0.87237188 0.87237188 0.8723571 ] ~ 0.8723663472248108\n",
      "Confusion matrix:\n",
      " [[59149     0]\n",
      " [ 8486     0]]\n",
      "Accuracy: 0.8745324166481852 \n",
      "\n"
     ]
    }
   ],
   "source": [
    "evaluateModelPreformance(df_normalized, LogisticRegression())"
   ]
  },
  {
   "cell_type": "code",
   "execution_count": 7,
   "metadata": {},
   "outputs": [
    {
     "name": "stdout",
     "output_type": "stream",
     "text": [
      "<class 'sklearn.linear_model._logistic.LogisticRegression'> has started training\n",
      "<class 'sklearn.linear_model._logistic.LogisticRegression'> has completed training\n",
      "Cross Validation Scores:  [0.87193021 0.87231274 0.87186918 0.87217967 0.87176568] ~ 0.8720114973823412\n",
      "Confusion matrix:\n",
      " [[59076    73]\n",
      " [ 8448    38]]\n",
      "Accuracy: 0.8740149330967695 \n",
      "\n"
     ]
    }
   ],
   "source": [
    "evaluateModelPreformance(df_standardized, LogisticRegression())"
   ]
  },
  {
   "cell_type": "markdown",
   "metadata": {},
   "source": [
    "This model isn't suitable to the problem. It classifies almost all as 0s. It cannot recognize the real danger for planet"
   ]
  },
  {
   "cell_type": "markdown",
   "metadata": {},
   "source": [
    "#### K-Nearest Neighbors"
   ]
  },
  {
   "cell_type": "code",
   "execution_count": 8,
   "metadata": {},
   "outputs": [],
   "source": [
    "from sklearn.neighbors import KNeighborsClassifier"
   ]
  },
  {
   "cell_type": "code",
   "execution_count": 9,
   "metadata": {},
   "outputs": [
    {
     "name": "stdout",
     "output_type": "stream",
     "text": [
      "<class 'sklearn.neighbors._classification.KNeighborsClassifier'> has started training\n",
      "<class 'sklearn.neighbors._classification.KNeighborsClassifier'> has completed training\n",
      "Cross Validation Scores:  [0.85588822 0.85391963 0.85545731 0.85485111 0.85570867] ~ 0.8551649883543083\n",
      "Confusion matrix:\n",
      " [[55811  3338]\n",
      " [ 6376  2110]]\n",
      "Accuracy: 0.8563761366156576 \n",
      "\n"
     ]
    }
   ],
   "source": [
    "evaluateModelPreformance(df_normalized, KNeighborsClassifier())"
   ]
  },
  {
   "cell_type": "code",
   "execution_count": 10,
   "metadata": {},
   "outputs": [
    {
     "name": "stdout",
     "output_type": "stream",
     "text": [
      "<class 'sklearn.neighbors._classification.KNeighborsClassifier'> has started training\n",
      "<class 'sklearn.neighbors._classification.KNeighborsClassifier'> has completed training\n",
      "Cross Validation Scores:  [0.86688845 0.86687169 0.86490523 0.86579235 0.86725611] ~ 0.8663427658028644\n",
      "Confusion matrix:\n",
      " [[55873  3276]\n",
      " [ 5641  2845]]\n",
      "Accuracy: 0.8681599763436091 \n",
      "\n"
     ]
    }
   ],
   "source": [
    "evaluateModelPreformance(df_standardized, KNeighborsClassifier())"
   ]
  },
  {
   "cell_type": "markdown",
   "metadata": {},
   "source": [
    "The ***KNN*** performs poorly, but better than the ***Logistic Regression***"
   ]
  },
  {
   "cell_type": "markdown",
   "metadata": {},
   "source": [
    "### Linear Support Vector Classifier"
   ]
  },
  {
   "cell_type": "code",
   "execution_count": 11,
   "metadata": {},
   "outputs": [],
   "source": [
    "from sklearn.svm import LinearSVC"
   ]
  },
  {
   "cell_type": "code",
   "execution_count": 12,
   "metadata": {},
   "outputs": [
    {
     "name": "stdout",
     "output_type": "stream",
     "text": [
      "<class 'sklearn.svm._classes.LinearSVC'> has started training\n",
      "<class 'sklearn.svm._classes.LinearSVC'> has completed training\n",
      "Cross Validation Scores:  [0.87235899 0.87237188 0.87237188 0.87237188 0.8723571 ] ~ 0.8723663472248108\n",
      "Confusion matrix:\n",
      " [[59149     0]\n",
      " [ 8486     0]]\n",
      "Accuracy: 0.8745324166481852 \n",
      "\n"
     ]
    }
   ],
   "source": [
    "evaluateModelPreformance(df_normalized, LinearSVC())"
   ]
  },
  {
   "cell_type": "code",
   "execution_count": 13,
   "metadata": {},
   "outputs": [
    {
     "name": "stdout",
     "output_type": "stream",
     "text": [
      "<class 'sklearn.svm._classes.LinearSVC'> has started training\n",
      "<class 'sklearn.svm._classes.LinearSVC'> has completed training\n",
      "Cross Validation Scores:  [0.8723442  0.8723571  0.8723571  0.87237188 0.87232753] ~ 0.8723515618055993\n",
      "Confusion matrix:\n",
      " [[59148     1]\n",
      " [ 8486     0]]\n",
      "Accuracy: 0.874517631403859 \n",
      "\n"
     ]
    }
   ],
   "source": [
    "evaluateModelPreformance(df_standardized, LinearSVC())"
   ]
  },
  {
   "cell_type": "markdown",
   "metadata": {},
   "source": [
    "This model isn't suitable to the problem. It classifies almost all as 0s. It cannot recognize the real danger for planet. Here, we've got the same problem as with the ***Logistic Regression***"
   ]
  },
  {
   "cell_type": "markdown",
   "metadata": {},
   "source": [
    "#### Decision Tree Classifier"
   ]
  },
  {
   "cell_type": "code",
   "execution_count": 14,
   "metadata": {},
   "outputs": [],
   "source": [
    "from sklearn.tree import DecisionTreeClassifier"
   ]
  },
  {
   "cell_type": "code",
   "execution_count": 15,
   "metadata": {},
   "outputs": [
    {
     "name": "stdout",
     "output_type": "stream",
     "text": [
      "<class 'sklearn.tree._classes.DecisionTreeClassifier'> has started training\n",
      "<class 'sklearn.tree._classes.DecisionTreeClassifier'> has completed training\n",
      "Cross Validation Scores:  [0.87110224 0.87118905 0.87068634 0.87077505 0.87118905] ~ 0.8709883457957831\n",
      "Confusion matrix:\n",
      " [[58933   216]\n",
      " [ 8388    98]]\n",
      "Accuracy: 0.8727877578176979 \n",
      "\n"
     ]
    }
   ],
   "source": [
    "evaluateModelPreformance(df_normalized, DecisionTreeClassifier())"
   ]
  },
  {
   "cell_type": "code",
   "execution_count": 16,
   "metadata": {},
   "outputs": [
    {
     "name": "stdout",
     "output_type": "stream",
     "text": [
      "<class 'sklearn.tree._classes.DecisionTreeClassifier'> has started training\n",
      "<class 'sklearn.tree._classes.DecisionTreeClassifier'> has completed training\n",
      "Cross Validation Scores:  [0.87704591 0.87321466 0.87132212 0.87379129 0.87430878] ~ 0.8739365495286153\n",
      "Confusion matrix:\n",
      " [[54874  4275]\n",
      " [ 4107  4379]]\n",
      "Accuracy: 0.876070082058106 \n",
      "\n"
     ]
    }
   ],
   "source": [
    "evaluateModelPreformance(df_standardized, DecisionTreeClassifier())"
   ]
  },
  {
   "cell_type": "markdown",
   "metadata": {},
   "source": [
    "By far the ***Decision Tree Classifier*** is the best machine learning model. It has the minimal understanding of recognizing 0s and 1s"
   ]
  },
  {
   "cell_type": "markdown",
   "metadata": {},
   "source": [
    "### Random Forest Classifier"
   ]
  },
  {
   "cell_type": "code",
   "execution_count": 17,
   "metadata": {},
   "outputs": [],
   "source": [
    "from sklearn.ensemble import RandomForestClassifier"
   ]
  },
  {
   "cell_type": "code",
   "execution_count": 18,
   "metadata": {},
   "outputs": [
    {
     "name": "stdout",
     "output_type": "stream",
     "text": [
      "<class 'sklearn.ensemble._forest.RandomForestClassifier'> has started training\n",
      "<class 'sklearn.ensemble._forest.RandomForestClassifier'> has completed training\n",
      "Cross Validation Scores:  [0.87243291 0.87237188 0.87237188 0.87237188 0.8723571 ] ~ 0.8723811324691371\n",
      "Confusion matrix:\n",
      " [[59149     0]\n",
      " [ 8483     3]]\n",
      "Accuracy: 0.8745767723811636 \n",
      "\n"
     ]
    }
   ],
   "source": [
    "evaluateModelPreformance(df_normalized, RandomForestClassifier())"
   ]
  },
  {
   "cell_type": "code",
   "execution_count": 19,
   "metadata": {},
   "outputs": [
    {
     "name": "stdout",
     "output_type": "stream",
     "text": [
      "<class 'sklearn.ensemble._forest.RandomForestClassifier'> has started training\n",
      "<class 'sklearn.ensemble._forest.RandomForestClassifier'> has completed training\n",
      "Cross Validation Scores:  [0.87988468 0.8762161  0.8750037  0.87757637 0.87781293] ~ 0.8772987554050473\n",
      "Confusion matrix:\n",
      " [[55114  4035]\n",
      " [ 4141  4345]]\n",
      "Accuracy: 0.8791158423892955 \n",
      "\n"
     ]
    }
   ],
   "source": [
    "evaluateModelPreformance(df_standardized, RandomForestClassifier())"
   ]
  },
  {
   "cell_type": "markdown",
   "metadata": {},
   "source": [
    "The ***Random Forest Classifier*** is based on the decision trees. That's why it has a similar result as the ***Decision Tree Classifier***."
   ]
  },
  {
   "cell_type": "markdown",
   "metadata": {},
   "source": [
    "#### XGB Classifer"
   ]
  },
  {
   "cell_type": "code",
   "execution_count": 20,
   "metadata": {},
   "outputs": [],
   "source": [
    "from xgboost import XGBClassifier"
   ]
  },
  {
   "cell_type": "code",
   "execution_count": 21,
   "metadata": {},
   "outputs": [
    {
     "name": "stdout",
     "output_type": "stream",
     "text": [
      "<class 'xgboost.sklearn.XGBClassifier'> has started training\n",
      "<class 'xgboost.sklearn.XGBClassifier'> has completed training\n",
      "Cross Validation Scores:  [0.87389665 0.87339208 0.87303723 0.87330337 0.8733773 ] ~ 0.8734013250830909\n",
      "Confusion matrix:\n",
      " [[58873   276]\n",
      " [ 8183   303]]\n",
      "Accuracy: 0.8749316182449915 \n",
      "\n"
     ]
    }
   ],
   "source": [
    "evaluateModelPreformance(df_normalized, XGBClassifier())"
   ]
  },
  {
   "cell_type": "code",
   "execution_count": 22,
   "metadata": {},
   "outputs": [
    {
     "name": "stdout",
     "output_type": "stream",
     "text": [
      "<class 'xgboost.sklearn.XGBClassifier'> has started training\n",
      "<class 'xgboost.sklearn.XGBClassifier'> has completed training\n",
      "Cross Validation Scores:  [0.88158498 0.88174587 0.88215986 0.88115445 0.88133187] ~ 0.8815954059053783\n",
      "Confusion matrix:\n",
      " [[58450   699]\n",
      " [ 7166  1320]]\n",
      "Accuracy: 0.883714053374732 \n",
      "\n"
     ]
    }
   ],
   "source": [
    "evaluateModelPreformance(df_standardized, XGBClassifier())"
   ]
  },
  {
   "cell_type": "markdown",
   "metadata": {},
   "source": [
    "This model has poor accuracy. Better than ***Logistic Regression***, but worse than the ***Random Forest*** & ***Decision Tree***."
   ]
  },
  {
   "cell_type": "markdown",
   "metadata": {},
   "source": [
    "### Conclusion\n",
    "The dataset isn't good enough to correctly train the machine learning models. The performance of the models isn't good enough to be used in real life."
   ]
  }
 ],
 "metadata": {
  "kernelspec": {
   "display_name": "Python 3",
   "language": "python",
   "name": "python3"
  },
  "language_info": {
   "codemirror_mode": {
    "name": "ipython",
    "version": 3
   },
   "file_extension": ".py",
   "mimetype": "text/x-python",
   "name": "python",
   "nbconvert_exporter": "python",
   "pygments_lexer": "ipython3",
   "version": "3.12.2"
  }
 },
 "nbformat": 4,
 "nbformat_minor": 2
}
