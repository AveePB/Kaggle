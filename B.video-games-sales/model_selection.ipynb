{
 "cells": [
  {
   "cell_type": "markdown",
   "metadata": {},
   "source": [
    "# Model Selection of The Video Game Sales Predictor\n",
    "In this notebook, we examine my regressor models that will allow us to predict sales."
   ]
  },
  {
   "cell_type": "markdown",
   "metadata": {},
   "source": [
    "<h3>Importing libraries</h3>"
   ]
  },
  {
   "cell_type": "code",
   "execution_count": 1,
   "metadata": {},
   "outputs": [],
   "source": [
    "import matplotlib.pyplot as plt\n",
    "import numpy as np\n",
    "import pandas as pd"
   ]
  },
  {
   "cell_type": "markdown",
   "metadata": {},
   "source": [
    "<h3>Loading the training & testing datasets</h3>"
   ]
  },
  {
   "cell_type": "code",
   "execution_count": 2,
   "metadata": {},
   "outputs": [],
   "source": [
    "train_df = pd.read_csv(\"./data/train.csv\")\n",
    "X_train = train_df.iloc[:, train_df.columns != \"Global_Sales\"].values\n",
    "y_train = train_df.iloc[:, train_df.columns == \"Global_Sales\"].values.reshape(-1)"
   ]
  },
  {
   "cell_type": "code",
   "execution_count": 3,
   "metadata": {},
   "outputs": [
    {
     "data": {
      "text/plain": [
       "array([[ 1.44447423, -0.31529833, -0.27863932, ...,  0.        ,\n",
       "         0.        ,  0.        ],\n",
       "       [ 1.20827211, -0.31529833, -0.27863932, ...,  0.        ,\n",
       "         0.        ,  0.        ],\n",
       "       [-1.33932158,  0.4693327 ,  0.32967975, ...,  0.        ,\n",
       "         0.        ,  0.        ],\n",
       "       ...,\n",
       "       [ 0.23061708, -0.21872836, -0.20259943, ...,  0.        ,\n",
       "         0.        ,  0.        ],\n",
       "       [ 1.03420642, -0.26701334, -0.25962935, ...,  0.        ,\n",
       "         0.        ,  0.        ],\n",
       "       [ 0.13124063, -0.31529833, -0.27863932, ...,  0.        ,\n",
       "         0.        ,  0.        ]])"
      ]
     },
     "execution_count": 3,
     "metadata": {},
     "output_type": "execute_result"
    }
   ],
   "source": [
    "X_train"
   ]
  },
  {
   "cell_type": "code",
   "execution_count": 4,
   "metadata": {},
   "outputs": [
    {
     "data": {
      "text/plain": [
       "array([0.02, 0.04, 1.07, ..., 0.13, 0.05, 0.15])"
      ]
     },
     "execution_count": 4,
     "metadata": {},
     "output_type": "execute_result"
    }
   ],
   "source": [
    "y_train"
   ]
  },
  {
   "cell_type": "code",
   "execution_count": 5,
   "metadata": {},
   "outputs": [],
   "source": [
    "test_df = pd.read_csv(\"./data/test.csv\")\n",
    "X_test = test_df.iloc[:, test_df.columns != \"Global_Sales\"].values\n",
    "y_test = test_df.iloc[:, test_df.columns == \"Global_Sales\"].values.reshape(-1)"
   ]
  },
  {
   "cell_type": "code",
   "execution_count": 6,
   "metadata": {},
   "outputs": [
    {
     "data": {
      "text/plain": [
       "array([[-0.84892497,  0.14340904, -0.25962935, ...,  0.        ,\n",
       "         0.        ,  0.        ],\n",
       "       [ 0.76850518, -0.24287085, -0.25962935, ...,  0.        ,\n",
       "         0.        ,  0.        ],\n",
       "       [-1.23952671,  0.55383142, -0.2216094 , ...,  0.        ,\n",
       "         0.        ,  0.        ],\n",
       "       ...,\n",
       "       [ 0.56159295, -0.29115584, -0.18358946, ...,  0.        ,\n",
       "         0.        ,  0.        ],\n",
       "       [-1.21755928,  0.23997901,  0.31066977, ...,  0.        ,\n",
       "         0.        ,  0.        ],\n",
       "       [-0.86440677,  0.14340904, -0.12655955, ...,  0.        ,\n",
       "         0.        ,  0.        ]])"
      ]
     },
     "execution_count": 6,
     "metadata": {},
     "output_type": "execute_result"
    }
   ],
   "source": [
    "X_test"
   ]
  },
  {
   "cell_type": "code",
   "execution_count": 7,
   "metadata": {},
   "outputs": [
    {
     "data": {
      "text/plain": [
       "array([0.46, 0.07, 0.87, ..., 0.09, 0.83, 0.47])"
      ]
     },
     "execution_count": 7,
     "metadata": {},
     "output_type": "execute_result"
    }
   ],
   "source": [
    "y_test"
   ]
  },
  {
   "cell_type": "markdown",
   "metadata": {},
   "source": [
    "<h3>Training models</h3>"
   ]
  },
  {
   "cell_type": "code",
   "execution_count": 8,
   "metadata": {},
   "outputs": [
    {
     "name": "stdout",
     "output_type": "stream",
     "text": [
      "ML Model: <class 'sklearn.ensemble._forest.RandomForestRegressor'> is trained!\n",
      "ML Model: <class 'sklearn.tree._classes.DecisionTreeRegressor'> is trained!\n",
      "ML Model: <class 'sklearn.linear_model._base.LinearRegression'> is trained!\n",
      "ML Model: <class 'sklearn.svm._classes.SVR'> is trained!\n"
     ]
    }
   ],
   "source": [
    "from sklearn.ensemble import RandomForestRegressor\n",
    "from sklearn.tree import DecisionTreeRegressor\n",
    "from sklearn.linear_model import LinearRegression\n",
    "from sklearn.svm import SVR\n",
    "\n",
    "models = []\n",
    "models.append(RandomForestRegressor())\n",
    "models.append(DecisionTreeRegressor())\n",
    "models.append(LinearRegression())\n",
    "models.append(SVR())\n",
    "\n",
    "for model in models:\n",
    "    model.fit(X_train, y_train)\n",
    "    print(\"ML Model:\", type(model), \"is done with training!\")"
   ]
  },
  {
   "cell_type": "markdown",
   "metadata": {},
   "source": [
    "<h3>Evaluating scores</h3>"
   ]
  },
  {
   "cell_type": "code",
   "execution_count": 10,
   "metadata": {},
   "outputs": [
    {
     "name": "stdout",
     "output_type": "stream",
     "text": [
      "\n",
      "Model <class 'sklearn.ensemble._forest.RandomForestRegressor'>\n",
      "MAE:  0.0026860386621666613\n",
      "MSE:  0.002822729917152416\n",
      "R2:  0.9986123558466602\n",
      "\n",
      "Model <class 'sklearn.tree._classes.DecisionTreeRegressor'>\n",
      "MAE:  0.003341515802393634\n",
      "MSE:  0.0015926050935869923\n",
      "R2:  0.9992170809069383\n",
      "\n",
      "Model <class 'sklearn.linear_model._base.LinearRegression'>\n",
      "MAE:  4145997.8341250797\n",
      "MSE:  1.125820885955417e+16\n",
      "R2:  -5534496094050255.0\n",
      "\n",
      "Model <class 'sklearn.svm._classes.SVR'>\n",
      "MAE:  0.10485481054290552\n",
      "MSE:  0.5609652255210479\n",
      "R2:  0.724231457394795\n"
     ]
    }
   ],
   "source": [
    "from sklearn.metrics import mean_absolute_error, mean_squared_error, r2_score\n",
    "\n",
    "for model in models:\n",
    "    y_pred = model.predict(X_test)\n",
    "    print(\"\\nModel\", type(model))\n",
    "    print(\"MAE: \", mean_absolute_error(y_test, y_pred))\n",
    "    print(\"MSE: \", mean_squared_error(y_test, y_pred))\n",
    "    print(\"R2: \", r2_score(y_test, y_pred))\n",
    "\n"
   ]
  },
  {
   "cell_type": "markdown",
   "metadata": {},
   "source": [
    "<h2>Conclusion</h2>\n",
    "Random Forest & Decision Tree are the best algorithms for this problem. Their accuracy is very high, it might be a result of the overfitting. <br>\n",
    "\n",
    "As we know decision trees are susceptible to overfitting. That's why we cannot forget about the SVR model, that has an average performance."
   ]
  }
 ],
 "metadata": {
  "kernelspec": {
   "display_name": "Python 3",
   "language": "python",
   "name": "python3"
  },
  "language_info": {
   "codemirror_mode": {
    "name": "ipython",
    "version": 3
   },
   "file_extension": ".py",
   "mimetype": "text/x-python",
   "name": "python",
   "nbconvert_exporter": "python",
   "pygments_lexer": "ipython3",
   "version": "3.12.2"
  }
 },
 "nbformat": 4,
 "nbformat_minor": 2
}
