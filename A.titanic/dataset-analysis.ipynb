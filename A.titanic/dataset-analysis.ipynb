{
 "cells": [
  {
   "cell_type": "markdown",
   "metadata": {},
   "source": [
    "<h2>Titanic Dataset Analysis - Machine Learning from Disaster</h2>"
   ]
  },
  {
   "cell_type": "markdown",
   "metadata": {},
   "source": [
    "<h3>Importing libraries</h3>"
   ]
  },
  {
   "cell_type": "code",
   "execution_count": 30,
   "metadata": {},
   "outputs": [],
   "source": [
    "import matplotlib.pyplot as plt\n",
    "import numpy as np\n",
    "import pandas as pd"
   ]
  },
  {
   "cell_type": "markdown",
   "metadata": {},
   "source": [
    "<h3>Loading dataset</h3>"
   ]
  },
  {
   "cell_type": "code",
   "execution_count": 31,
   "metadata": {},
   "outputs": [
    {
     "name": "stdout",
     "output_type": "stream",
     "text": [
      "Number of rows: 891\n"
     ]
    }
   ],
   "source": [
    "titanic_df = pd.read_csv(\"./data/train.csv\")\n",
    "print(\"Number of rows:\", len(titanic_df))"
   ]
  },
  {
   "cell_type": "code",
   "execution_count": 32,
   "metadata": {},
   "outputs": [
    {
     "name": "stdout",
     "output_type": "stream",
     "text": [
      "Missing data\n",
      "PassengerId      0\n",
      "Survived         0\n",
      "Pclass           0\n",
      "Name             0\n",
      "Sex              0\n",
      "Age            177\n",
      "SibSp            0\n",
      "Parch            0\n",
      "Ticket           0\n",
      "Fare             0\n",
      "Cabin          687\n",
      "Embarked         2\n",
      "dtype: int64\n"
     ]
    }
   ],
   "source": [
    "print(\"Missing data\")\n",
    "print(titanic_df.isna().sum())"
   ]
  },
  {
   "cell_type": "markdown",
   "metadata": {},
   "source": [
    "<h4>Analyzing Pclass</h4>"
   ]
  },
  {
   "cell_type": "code",
   "execution_count": 33,
   "metadata": {},
   "outputs": [
    {
     "name": "stdout",
     "output_type": "stream",
     "text": [
      "NaN count: 0\n"
     ]
    }
   ],
   "source": [
    "print(\"NaN count:\", titanic_df[\"Pclass\"].isna().sum())"
   ]
  },
  {
   "cell_type": "code",
   "execution_count": 34,
   "metadata": {},
   "outputs": [
    {
     "name": "stdout",
     "output_type": "stream",
     "text": [
      "Total Count Pclass\n",
      "1    216\n",
      "2    184\n",
      "3    491\n",
      "Name: count, dtype: int64\n",
      "\n",
      "\n",
      "Survivor Count Pclass\n",
      "1    136\n",
      "2     87\n",
      "3    119\n",
      "Name: count, dtype: int64\n",
      "\n",
      "\n",
      "Dead Count Pclass\n",
      "1     80\n",
      "2     97\n",
      "3    372\n",
      "Name: count, dtype: int64\n"
     ]
    }
   ],
   "source": [
    "print(\"Total Count\", titanic_df[\"Pclass\"].value_counts().sort_index())\n",
    "print(\"\\n\")\n",
    "print(\"Survivor Count\", titanic_df[titanic_df[\"Survived\"] == 1][\"Pclass\"].value_counts().sort_index())\n",
    "print(\"\\n\")\n",
    "print(\"Dead Count\", titanic_df[titanic_df[\"Survived\"] == 0][\"Pclass\"].value_counts().sort_index())\n"
   ]
  },
  {
   "cell_type": "markdown",
   "metadata": {},
   "source": [
    "We decide to keep this column. The data shows us that this column has a direct impact on the result.\n",
    "\n",
    "**Pclass (1)**: $ 136\\text{ survivors} + 80\\text{ dead} = 216\\text{ people}$<br>\n",
    "**Pclass (2)**: $ 87\\text{ survivors} + 97\\text{ dead} = 184\\text{ people}$<br>\n",
    "**Pclass (3)**: $ 119\\text{ survivors} + 372\\text{ dead} = 491\\text{ people}$<br>\n"
   ]
  },
  {
   "cell_type": "markdown",
   "metadata": {},
   "source": [
    "<h4>Analyzing Sex</h4>"
   ]
  },
  {
   "cell_type": "code",
   "execution_count": 35,
   "metadata": {},
   "outputs": [
    {
     "name": "stdout",
     "output_type": "stream",
     "text": [
      "NaN count: 0\n"
     ]
    }
   ],
   "source": [
    "print(\"NaN count:\", titanic_df[\"Sex\"].isnull().sum())"
   ]
  },
  {
   "cell_type": "code",
   "execution_count": 36,
   "metadata": {},
   "outputs": [
    {
     "name": "stdout",
     "output_type": "stream",
     "text": [
      "Total Count Sex\n",
      "female    314\n",
      "male      577\n",
      "Name: count, dtype: int64\n",
      "\n",
      "\n",
      "Survivor Count Sex\n",
      "female    233\n",
      "male      109\n",
      "Name: count, dtype: int64\n",
      "\n",
      "\n",
      "Dead Count Sex\n",
      "female     81\n",
      "male      468\n",
      "Name: count, dtype: int64\n",
      "\n",
      "\n"
     ]
    }
   ],
   "source": [
    "print(\"Total Count\", titanic_df[\"Sex\"].value_counts().sort_index())\n",
    "print(\"\\n\")\n",
    "\n",
    "print(\"Survivor Count\", titanic_df[titanic_df[\"Survived\"] == 1][\"Sex\"].value_counts().sort_index())\n",
    "print(\"\\n\")\n",
    "\n",
    "print(\"Dead Count\", titanic_df[titanic_df[\"Survived\"] == 0][\"Sex\"].value_counts().sort_index())\n",
    "print(\"\\n\")"
   ]
  },
  {
   "cell_type": "markdown",
   "metadata": {},
   "source": [
    "We decide to keep this column. The data shows us that this column has a direct impact on the result.\n",
    "\n",
    "**Sex (female)**: $ 233\\text{ survivors} + 81\\text{ dead} = 314\\text{ people}$<br>\n",
    "**Sex (male)**: $ 109\\text{ survivors} + 468\\text{ dead} = 577\\text{ people}$<br>"
   ]
  },
  {
   "cell_type": "markdown",
   "metadata": {},
   "source": [
    "<h4>Analyzing Age</h4>"
   ]
  },
  {
   "cell_type": "code",
   "execution_count": 37,
   "metadata": {},
   "outputs": [
    {
     "name": "stdout",
     "output_type": "stream",
     "text": [
      "NaN count: 177\n"
     ]
    }
   ],
   "source": [
    "print(\"NaN count:\", titanic_df[\"Age\"].isnull().sum())"
   ]
  },
  {
   "cell_type": "code",
   "execution_count": 38,
   "metadata": {},
   "outputs": [
    {
     "name": "stdout",
     "output_type": "stream",
     "text": [
      "Total Count Age\n",
      "0.42     1\n",
      "0.67     1\n",
      "0.75     2\n",
      "0.83     2\n",
      "0.92     1\n",
      "        ..\n",
      "70.00    2\n",
      "70.50    1\n",
      "71.00    2\n",
      "74.00    1\n",
      "80.00    1\n",
      "Name: count, Length: 88, dtype: int64\n"
     ]
    }
   ],
   "source": [
    "print(\"Total Count\", titanic_df[\"Age\"].value_counts().sort_index())"
   ]
  },
  {
   "cell_type": "code",
   "execution_count": 39,
   "metadata": {},
   "outputs": [
    {
     "name": "stdout",
     "output_type": "stream",
     "text": [
      "NaN count: 0\n"
     ]
    }
   ],
   "source": [
    "from sklearn.impute import SimpleImputer\n",
    "\n",
    "age_si = SimpleImputer()\n",
    "titanic_df[\"Age\"] = age_si.fit_transform(titanic_df[\"Age\"].values.reshape(-1, 1))\n",
    "\n",
    "print(\"NaN count:\", titanic_df[\"Age\"].isnull().sum())"
   ]
  },
  {
   "cell_type": "code",
   "execution_count": 40,
   "metadata": {},
   "outputs": [
    {
     "data": {
      "image/png": "[encoded data removed]",
      "text/plain": [
       "<Figure size 640x480 with 1 Axes>"
      ]
     },
     "metadata": {},
     "output_type": "display_data"
    },
    {
     "data": {
      "image/png": "[encoded data removed]",
      "text/plain": [
       "<Figure size 640x480 with 1 Axes>"
      ]
     },
     "metadata": {},
     "output_type": "display_data"
    }
   ],
   "source": [
    "df_female = titanic_df[titanic_df[\"Sex\"] == \"female\"]\n",
    "plt.scatter(df_female[df_female[\"Survived\"] == 1][\"Age\"].values, df_female[df_female[\"Survived\"] == 1][\"Age\"].values, c = \"green\")\n",
    "plt.title(\"Age of Female Survivors\")\n",
    "plt.show()\n",
    "\n",
    "plt.scatter(df_female[df_female[\"Survived\"] == 0][\"Age\"].values, df_female[df_female[\"Survived\"] == 0][\"Age\"].values, c = \"red\")\n",
    "plt.title(\"Age of Dead Females\")\n",
    "plt.show()"
   ]
  },
  {
   "cell_type": "code",
   "execution_count": 41,
   "metadata": {},
   "outputs": [
    {
     "data": {
      "image/png": "[encoded data removed]",
      "text/plain": [
       "<Figure size 640x480 with 1 Axes>"
      ]
     },
     "metadata": {},
     "output_type": "display_data"
    },
    {
     "data": {
      "image/png": "[encoded data removed]",
      "text/plain": [
       "<Figure size 640x480 with 1 Axes>"
      ]
     },
     "metadata": {},
     "output_type": "display_data"
    }
   ],
   "source": [
    "df_male = titanic_df[titanic_df[\"Sex\"] == \"male\"]\n",
    "plt.scatter(df_male[df_male[\"Survived\"] == 1][\"Age\"].values, df_male[df_male[\"Survived\"] == 1][\"Age\"].values, c = \"green\")\n",
    "plt.title(\"Age of Male Survivors\")\n",
    "plt.show()\n",
    "\n",
    "plt.scatter(df_male[df_male[\"Survived\"] == 0][\"Age\"].values, df_male[df_male[\"Survived\"] == 0][\"Age\"].values, c = \"red\")\n",
    "plt.title(\"Age of Dead Males\")\n",
    "plt.show()"
   ]
  },
  {
   "cell_type": "markdown",
   "metadata": {},
   "source": [
    "We decide to keep this column. The data shows us that this column has a direct impact on the result.\n",
    "\n",
    "**Age (continous)**: $ 714\\text{ not missing} + 177\\text{ imputed} = 891\\text{ people}$"
   ]
  },
  {
   "cell_type": "markdown",
   "metadata": {},
   "source": [
    "<h4>Analyzing SibSp</h4>"
   ]
  },
  {
   "cell_type": "code",
   "execution_count": 42,
   "metadata": {},
   "outputs": [
    {
     "name": "stdout",
     "output_type": "stream",
     "text": [
      "NaN count: 0\n"
     ]
    }
   ],
   "source": [
    "print(\"NaN count:\", titanic_df[\"SibSp\"].isnull().sum())"
   ]
  },
  {
   "cell_type": "code",
   "execution_count": 43,
   "metadata": {},
   "outputs": [
    {
     "name": "stdout",
     "output_type": "stream",
     "text": [
      "Total Count SibSp\n",
      "0    608\n",
      "1    209\n",
      "2     28\n",
      "3     16\n",
      "4     18\n",
      "5      5\n",
      "8      7\n",
      "Name: count, dtype: int64\n",
      "\n",
      "\n",
      "Survivor Count SibSp\n",
      "0    210\n",
      "1    112\n",
      "2     13\n",
      "3      4\n",
      "4      3\n",
      "Name: count, dtype: int64\n",
      "\n",
      "\n",
      "Dead Count SibSp\n",
      "0    398\n",
      "1     97\n",
      "2     15\n",
      "3     12\n",
      "4     15\n",
      "5      5\n",
      "8      7\n",
      "Name: count, dtype: int64\n",
      "\n",
      "\n"
     ]
    }
   ],
   "source": [
    "print(\"Total Count\", titanic_df[\"SibSp\"].value_counts().sort_index())\n",
    "print(\"\\n\")\n",
    "\n",
    "print(\"Survivor Count\", titanic_df[titanic_df[\"Survived\"] == 1][\"SibSp\"].value_counts().sort_index())\n",
    "print(\"\\n\")\n",
    "\n",
    "print(\"Dead Count\", titanic_df[titanic_df[\"Survived\"] == 0][\"SibSp\"].value_counts().sort_index())\n",
    "print(\"\\n\")"
   ]
  },
  {
   "cell_type": "markdown",
   "metadata": {},
   "source": [
    "We decide to keep this column. The data shows us that this column has a direct impact on the result.\n",
    "\n",
    "**SibSp (0)**: $ 210\\text{ survivors} + 398\\text{ dead} = 608\\text{ people}$ <br>\n",
    "**SibSp (1)**: $ 112\\text{ survivors} + 97\\text{ dead} = 209\\text{ people}$ <br>\n",
    "**SibSp (2)**: $ 13\\text{ survivors} + 15\\text{ dead} = 28\\text{ people}$ <br>\n",
    "**SibSp (3)**: $ 4\\text{ survivors} + 12\\text{ dead} = 16\\text{ people}$ <br>\n",
    "**SibSp (4)**: $ 3\\text{ survivors} + 15\\text{ dead} = 18\\text{ people}$ <br>\n",
    "**SibSp (5)**: $ 0\\text{ survivors} + 5\\text{ dead} = 5\\text{ people}$ <br>\n",
    "**SibSp (6)**: $ 0\\text{ survivors} + 0\\text{ dead} = 0\\text{ people}$ <br>\n",
    "**SibSp (7)**: $ 0\\text{ survivors} + 0\\text{ dead} = 0\\text{ people}$ <br>\n",
    "**SibSp (8)**: $ 0\\text{ survivors} + 7\\text{ dead} = 7\\text{ people}$ <br>\n"
   ]
  },
  {
   "cell_type": "markdown",
   "metadata": {},
   "source": [
    "<h4>Analyzing Parch</h4>"
   ]
  },
  {
   "cell_type": "code",
   "execution_count": 44,
   "metadata": {},
   "outputs": [
    {
     "name": "stdout",
     "output_type": "stream",
     "text": [
      "NaN count: 0\n"
     ]
    }
   ],
   "source": [
    "print(\"NaN count:\", titanic_df[\"Parch\"].isnull().sum())"
   ]
  },
  {
   "cell_type": "code",
   "execution_count": 45,
   "metadata": {},
   "outputs": [
    {
     "name": "stdout",
     "output_type": "stream",
     "text": [
      "Total Count Parch\n",
      "0    678\n",
      "1    118\n",
      "2     80\n",
      "3      5\n",
      "4      4\n",
      "5      5\n",
      "6      1\n",
      "Name: count, dtype: int64\n",
      "\n",
      "\n",
      "Survivor Count Parch\n",
      "0    233\n",
      "1     65\n",
      "2     40\n",
      "3      3\n",
      "5      1\n",
      "Name: count, dtype: int64\n",
      "\n",
      "\n",
      "Dead Count Parch\n",
      "0    445\n",
      "1     53\n",
      "2     40\n",
      "3      2\n",
      "4      4\n",
      "5      4\n",
      "6      1\n",
      "Name: count, dtype: int64\n",
      "\n",
      "\n"
     ]
    }
   ],
   "source": [
    "print(\"Total Count\", titanic_df[\"Parch\"].value_counts().sort_index())\n",
    "print(\"\\n\")\n",
    "\n",
    "print(\"Survivor Count\", titanic_df[titanic_df[\"Survived\"] == 1][\"Parch\"].value_counts().sort_index())\n",
    "print(\"\\n\")\n",
    "\n",
    "print(\"Dead Count\", titanic_df[titanic_df[\"Survived\"] == 0][\"Parch\"].value_counts().sort_index())\n",
    "print(\"\\n\")"
   ]
  },
  {
   "cell_type": "markdown",
   "metadata": {},
   "source": [
    "We decide to keep this column. The data shows us that this column has a direct impact on the result."
   ]
  },
  {
   "cell_type": "markdown",
   "metadata": {},
   "source": [
    "<h4>Analyzing Ticket</h4>"
   ]
  },
  {
   "cell_type": "code",
   "execution_count": 46,
   "metadata": {},
   "outputs": [
    {
     "name": "stdout",
     "output_type": "stream",
     "text": [
      "NaN count: 0\n"
     ]
    }
   ],
   "source": [
    "print(\"NaN count:\", titanic_df[\"Ticket\"].isna().sum())"
   ]
  },
  {
   "cell_type": "code",
   "execution_count": 47,
   "metadata": {},
   "outputs": [
    {
     "name": "stdout",
     "output_type": "stream",
     "text": [
      "Total Count Ticket\n",
      "110152         3\n",
      "110413         3\n",
      "110465         2\n",
      "110564         1\n",
      "110813         1\n",
      "              ..\n",
      "W./C. 6608     4\n",
      "W./C. 6609     1\n",
      "W.E.P. 5734    1\n",
      "W/C 14208      1\n",
      "WE/P 5735      2\n",
      "Name: count, Length: 681, dtype: int64\n"
     ]
    }
   ],
   "source": [
    "print(\"Total Count\", titanic_df[\"Ticket\"].value_counts().sort_index())"
   ]
  },
  {
   "cell_type": "markdown",
   "metadata": {},
   "source": [
    "We decide to drop this column. The data shows us that this column has no impact on the result of too much variety."
   ]
  },
  {
   "cell_type": "code",
   "execution_count": 48,
   "metadata": {},
   "outputs": [],
   "source": [
    "titanic_df = titanic_df.drop(columns=[\"Ticket\"])"
   ]
  },
  {
   "cell_type": "markdown",
   "metadata": {},
   "source": [
    "<h4>Analyzing Fare</h4>"
   ]
  },
  {
   "cell_type": "code",
   "execution_count": 49,
   "metadata": {},
   "outputs": [
    {
     "name": "stdout",
     "output_type": "stream",
     "text": [
      "NaN count: 0\n"
     ]
    }
   ],
   "source": [
    "print(\"NaN count:\", titanic_df[\"Fare\"].isna().sum())"
   ]
  },
  {
   "cell_type": "code",
   "execution_count": 50,
   "metadata": {},
   "outputs": [
    {
     "name": "stdout",
     "output_type": "stream",
     "text": [
      "Total Count Fare\n",
      "0.0000      15\n",
      "4.0125       1\n",
      "5.0000       1\n",
      "6.2375       1\n",
      "6.4375       1\n",
      "            ..\n",
      "227.5250     4\n",
      "247.5208     2\n",
      "262.3750     2\n",
      "263.0000     4\n",
      "512.3292     3\n",
      "Name: count, Length: 248, dtype: int64\n"
     ]
    }
   ],
   "source": [
    "print(\"Total Count\", titanic_df[\"Fare\"].value_counts().sort_index())"
   ]
  },
  {
   "cell_type": "markdown",
   "metadata": {},
   "source": [
    "We decide keep this column. The data shows us that this column may have impact on the result."
   ]
  },
  {
   "cell_type": "code",
   "execution_count": 51,
   "metadata": {},
   "outputs": [],
   "source": [
    "titanic_df = titanic_df.drop(columns=[\"Fare\"])"
   ]
  },
  {
   "cell_type": "markdown",
   "metadata": {},
   "source": [
    "<h4>Analyzing Cabin</h4>"
   ]
  },
  {
   "cell_type": "code",
   "execution_count": 52,
   "metadata": {},
   "outputs": [
    {
     "name": "stdout",
     "output_type": "stream",
     "text": [
      "NaN count: 687\n"
     ]
    }
   ],
   "source": [
    "print(\"NaN count:\", titanic_df[\"Cabin\"].isna().sum())"
   ]
  },
  {
   "cell_type": "markdown",
   "metadata": {},
   "source": [
    "We decide to drop this column. The data shows that the column lacks too much data."
   ]
  },
  {
   "cell_type": "code",
   "execution_count": 53,
   "metadata": {},
   "outputs": [],
   "source": [
    "titanic_df = titanic_df.drop(columns=[\"Cabin\"])"
   ]
  },
  {
   "cell_type": "markdown",
   "metadata": {},
   "source": [
    "<h4>Analyzing Embarked</h4>"
   ]
  },
  {
   "cell_type": "code",
   "execution_count": 54,
   "metadata": {},
   "outputs": [
    {
     "name": "stdout",
     "output_type": "stream",
     "text": [
      "NaN count: 2\n"
     ]
    }
   ],
   "source": [
    "print(\"NaN count:\", titanic_df[\"Embarked\"].isna().sum())"
   ]
  },
  {
   "cell_type": "code",
   "execution_count": 55,
   "metadata": {},
   "outputs": [
    {
     "name": "stdout",
     "output_type": "stream",
     "text": [
      "Total Count Embarked\n",
      "C    168\n",
      "Q     77\n",
      "S    644\n",
      "Name: count, dtype: int64\n",
      "\n",
      "\n",
      "Survived Count Embarked\n",
      "C     93\n",
      "Q     30\n",
      "S    217\n",
      "Name: count, dtype: int64\n",
      "\n",
      "\n",
      "Dead Count Embarked\n",
      "C     75\n",
      "Q     47\n",
      "S    427\n",
      "Name: count, dtype: int64\n",
      "\n",
      "\n"
     ]
    }
   ],
   "source": [
    "print(\"Total Count\", titanic_df[\"Embarked\"].value_counts().sort_index())\n",
    "print(\"\\n\")\n",
    "\n",
    "print(\"Survived Count\", titanic_df[titanic_df[\"Survived\"] == 1][\"Embarked\"].value_counts().sort_index())\n",
    "print(\"\\n\")\n",
    "\n",
    "print(\"Dead Count\", titanic_df[titanic_df[\"Survived\"] == 0][\"Embarked\"].value_counts().sort_index())\n",
    "print(\"\\n\")"
   ]
  },
  {
   "cell_type": "markdown",
   "metadata": {},
   "source": [
    "We decide to keep this column. The data shows us that this column has a direct impact on the result."
   ]
  },
  {
   "cell_type": "markdown",
   "metadata": {},
   "source": [
    "<h3>Conclusion</h3>\n",
    "\n",
    "For beginning, we've decided to drop: **PassengerId**, **Name**, **Ticket**, **Cabin**.\n"
   ]
  }
 ],
 "metadata": {
  "kernelspec": {
   "display_name": "Python 3",
   "language": "python",
   "name": "python3"
  },
  "language_info": {
   "codemirror_mode": {
    "name": "ipython",
    "version": 3
   },
   "file_extension": ".py",
   "mimetype": "text/x-python",
   "name": "python",
   "nbconvert_exporter": "python",
   "pygments_lexer": "ipython3",
   "version": "3.12.2"
  }
 },
 "nbformat": 4,
 "nbformat_minor": 2
}
