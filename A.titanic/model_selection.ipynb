{
 "cells": [
  {
   "cell_type": "markdown",
   "metadata": {},
   "source": [
    "## Titanic: Model Selection"
   ]
  },
  {
   "cell_type": "markdown",
   "metadata": {},
   "source": [
    "### Importing libraries"
   ]
  },
  {
   "cell_type": "code",
   "execution_count": 1,
   "metadata": {},
   "outputs": [],
   "source": [
    "from IPython.display import display, HTML\n",
    "import matplotlib.pyplot as plt\n",
    "import numpy as np\n",
    "import pandas as pd"
   ]
  },
  {
   "cell_type": "markdown",
   "metadata": {},
   "source": [
    "### Loading the datasets"
   ]
  },
  {
   "cell_type": "code",
   "execution_count": 2,
   "metadata": {},
   "outputs": [],
   "source": [
    "df_normalized = pd.read_csv('./data/normalized.csv')"
   ]
  },
  {
   "cell_type": "code",
   "execution_count": 3,
   "metadata": {},
   "outputs": [
    {
     "data": {
      "text/html": [
       "<div>\n",
       "<style scoped>\n",
       "    .dataframe tbody tr th:only-of-type {\n",
       "        vertical-align: middle;\n",
       "    }\n",
       "\n",
       "    .dataframe tbody tr th {\n",
       "        vertical-align: top;\n",
       "    }\n",
       "\n",
       "    .dataframe thead th {\n",
       "        text-align: right;\n",
       "    }\n",
       "</style>\n",
       "<table border=\"1\" class=\"dataframe\">\n",
       "  <thead>\n",
       "    <tr style=\"text-align: right;\">\n",
       "      <th></th>\n",
       "      <th>Pclass</th>\n",
       "      <th>Sex</th>\n",
       "      <th>Age</th>\n",
       "      <th>SibSp</th>\n",
       "      <th>Parch</th>\n",
       "      <th>Fare</th>\n",
       "      <th>Embarked_C</th>\n",
       "      <th>Embarked_S</th>\n",
       "      <th>Survived</th>\n",
       "    </tr>\n",
       "  </thead>\n",
       "  <tbody>\n",
       "    <tr>\n",
       "      <th>0</th>\n",
       "      <td>1</td>\n",
       "      <td>1</td>\n",
       "      <td>0.883877</td>\n",
       "      <td>0</td>\n",
       "      <td>0</td>\n",
       "      <td>0.467719</td>\n",
       "      <td>0</td>\n",
       "      <td>1</td>\n",
       "      <td>1</td>\n",
       "    </tr>\n",
       "    <tr>\n",
       "      <th>1</th>\n",
       "      <td>2</td>\n",
       "      <td>1</td>\n",
       "      <td>0.907009</td>\n",
       "      <td>0</td>\n",
       "      <td>0</td>\n",
       "      <td>0.421111</td>\n",
       "      <td>0</td>\n",
       "      <td>1</td>\n",
       "      <td>1</td>\n",
       "    </tr>\n",
       "    <tr>\n",
       "      <th>2</th>\n",
       "      <td>1</td>\n",
       "      <td>1</td>\n",
       "      <td>0.258722</td>\n",
       "      <td>0</td>\n",
       "      <td>0</td>\n",
       "      <td>0.965952</td>\n",
       "      <td>1</td>\n",
       "      <td>0</td>\n",
       "      <td>1</td>\n",
       "    </tr>\n",
       "    <tr>\n",
       "      <th>3</th>\n",
       "      <td>3</td>\n",
       "      <td>0</td>\n",
       "      <td>0.994813</td>\n",
       "      <td>0</td>\n",
       "      <td>0</td>\n",
       "      <td>0.101724</td>\n",
       "      <td>0</td>\n",
       "      <td>1</td>\n",
       "      <td>0</td>\n",
       "    </tr>\n",
       "    <tr>\n",
       "      <th>4</th>\n",
       "      <td>3</td>\n",
       "      <td>1</td>\n",
       "      <td>0.872129</td>\n",
       "      <td>0</td>\n",
       "      <td>0</td>\n",
       "      <td>0.489277</td>\n",
       "      <td>0</td>\n",
       "      <td>1</td>\n",
       "      <td>0</td>\n",
       "    </tr>\n",
       "  </tbody>\n",
       "</table>\n",
       "</div>"
      ],
      "text/plain": [
       "   Pclass  Sex       Age  SibSp  Parch      Fare  Embarked_C  Embarked_S  \\\n",
       "0       1    1  0.883877      0      0  0.467719           0           1   \n",
       "1       2    1  0.907009      0      0  0.421111           0           1   \n",
       "2       1    1  0.258722      0      0  0.965952           1           0   \n",
       "3       3    0  0.994813      0      0  0.101724           0           1   \n",
       "4       3    1  0.872129      0      0  0.489277           0           1   \n",
       "\n",
       "   Survived  \n",
       "0         1  \n",
       "1         1  \n",
       "2         1  \n",
       "3         0  \n",
       "4         0  "
      ]
     },
     "execution_count": 3,
     "metadata": {},
     "output_type": "execute_result"
    }
   ],
   "source": [
    "df_normalized.head()"
   ]
  },
  {
   "cell_type": "code",
   "execution_count": 4,
   "metadata": {},
   "outputs": [],
   "source": [
    "df_standardized = pd.read_csv('./data/standardized.csv')"
   ]
  },
  {
   "cell_type": "code",
   "execution_count": 5,
   "metadata": {},
   "outputs": [
    {
     "data": {
      "text/html": [
       "<div>\n",
       "<style scoped>\n",
       "    .dataframe tbody tr th:only-of-type {\n",
       "        vertical-align: middle;\n",
       "    }\n",
       "\n",
       "    .dataframe tbody tr th {\n",
       "        vertical-align: top;\n",
       "    }\n",
       "\n",
       "    .dataframe thead th {\n",
       "        text-align: right;\n",
       "    }\n",
       "</style>\n",
       "<table border=\"1\" class=\"dataframe\">\n",
       "  <thead>\n",
       "    <tr style=\"text-align: right;\">\n",
       "      <th></th>\n",
       "      <th>Pclass</th>\n",
       "      <th>Sex</th>\n",
       "      <th>Age</th>\n",
       "      <th>SibSp</th>\n",
       "      <th>Parch</th>\n",
       "      <th>Fare</th>\n",
       "      <th>Embarked_C</th>\n",
       "      <th>Embarked_S</th>\n",
       "      <th>Survived</th>\n",
       "    </tr>\n",
       "  </thead>\n",
       "  <tbody>\n",
       "    <tr>\n",
       "      <th>0</th>\n",
       "      <td>1</td>\n",
       "      <td>1</td>\n",
       "      <td>0.475345</td>\n",
       "      <td>0</td>\n",
       "      <td>0</td>\n",
       "      <td>-0.213706</td>\n",
       "      <td>0</td>\n",
       "      <td>1</td>\n",
       "      <td>1</td>\n",
       "    </tr>\n",
       "    <tr>\n",
       "      <th>1</th>\n",
       "      <td>2</td>\n",
       "      <td>1</td>\n",
       "      <td>0.557735</td>\n",
       "      <td>0</td>\n",
       "      <td>0</td>\n",
       "      <td>-0.379165</td>\n",
       "      <td>0</td>\n",
       "      <td>1</td>\n",
       "      <td>1</td>\n",
       "    </tr>\n",
       "    <tr>\n",
       "      <th>2</th>\n",
       "      <td>1</td>\n",
       "      <td>1</td>\n",
       "      <td>-1.751309</td>\n",
       "      <td>0</td>\n",
       "      <td>0</td>\n",
       "      <td>1.555036</td>\n",
       "      <td>1</td>\n",
       "      <td>0</td>\n",
       "      <td>1</td>\n",
       "    </tr>\n",
       "    <tr>\n",
       "      <th>3</th>\n",
       "      <td>3</td>\n",
       "      <td>0</td>\n",
       "      <td>0.870471</td>\n",
       "      <td>0</td>\n",
       "      <td>0</td>\n",
       "      <td>-1.513000</td>\n",
       "      <td>0</td>\n",
       "      <td>1</td>\n",
       "      <td>0</td>\n",
       "    </tr>\n",
       "    <tr>\n",
       "      <th>4</th>\n",
       "      <td>3</td>\n",
       "      <td>1</td>\n",
       "      <td>0.433500</td>\n",
       "      <td>0</td>\n",
       "      <td>0</td>\n",
       "      <td>-0.137176</td>\n",
       "      <td>0</td>\n",
       "      <td>1</td>\n",
       "      <td>0</td>\n",
       "    </tr>\n",
       "  </tbody>\n",
       "</table>\n",
       "</div>"
      ],
      "text/plain": [
       "   Pclass  Sex       Age  SibSp  Parch      Fare  Embarked_C  Embarked_S  \\\n",
       "0       1    1  0.475345      0      0 -0.213706           0           1   \n",
       "1       2    1  0.557735      0      0 -0.379165           0           1   \n",
       "2       1    1 -1.751309      0      0  1.555036           1           0   \n",
       "3       3    0  0.870471      0      0 -1.513000           0           1   \n",
       "4       3    1  0.433500      0      0 -0.137176           0           1   \n",
       "\n",
       "   Survived  \n",
       "0         1  \n",
       "1         1  \n",
       "2         1  \n",
       "3         0  \n",
       "4         0  "
      ]
     },
     "execution_count": 5,
     "metadata": {},
     "output_type": "execute_result"
    }
   ],
   "source": [
    "df_standardized.head()"
   ]
  },
  {
   "cell_type": "markdown",
   "metadata": {},
   "source": [
    "### Model Selection"
   ]
  },
  {
   "cell_type": "code",
   "execution_count": 6,
   "metadata": {},
   "outputs": [],
   "source": [
    "from sklearn.neighbors import KNeighborsClassifier\n",
    "from sklearn.ensemble import RandomForestClassifier\n",
    "from sklearn.linear_model import LogisticRegression\n",
    "from sklearn.tree import DecisionTreeClassifier\n",
    "from xgboost import XGBClassifier\n",
    "from sklearn.svm import SVC"
   ]
  },
  {
   "cell_type": "code",
   "execution_count": 7,
   "metadata": {},
   "outputs": [],
   "source": [
    "MODELS = [KNeighborsClassifier(), RandomForestClassifier(), DecisionTreeClassifier(), XGBClassifier(), SVC(), LogisticRegression()]"
   ]
  },
  {
   "cell_type": "code",
   "execution_count": 8,
   "metadata": {},
   "outputs": [],
   "source": [
    "X_normalized = df_normalized.loc[:, df_normalized.columns != 'Survived']\n",
    "y_normalized = df_normalized.loc[:, 'Survived']\n",
    "\n",
    "X_standardized = df_standardized .loc[:, df_standardized .columns != 'Survived']\n",
    "y_standardized = df_standardized .loc[:, 'Survived']"
   ]
  },
  {
   "cell_type": "markdown",
   "metadata": {},
   "source": [
    "#### Training on the normalized dataset"
   ]
  },
  {
   "cell_type": "code",
   "execution_count": 9,
   "metadata": {},
   "outputs": [
    {
     "name": "stdout",
     "output_type": "stream",
     "text": [
      "<class 'sklearn.neighbors._classification.KNeighborsClassifier'> is getting evaluated\n",
      "Cross Validation Score: 0.7979222898750864\n",
      "Confusion Matrix: \n",
      " [[96 17]\n",
      " [16 50]]\n",
      "Accuracy Score: 0.8156424581005587 \n",
      "\n",
      "<class 'sklearn.ensemble._forest.RandomForestClassifier'> is getting evaluated\n",
      "Cross Validation Score: 0.7687464691482015\n",
      "Confusion Matrix: \n",
      " [[89 24]\n",
      " [17 49]]\n",
      "Accuracy Score: 0.770949720670391 \n",
      "\n",
      "<class 'sklearn.tree._classes.DecisionTreeClassifier'> is getting evaluated\n",
      "Cross Validation Score: 0.7653756826313477\n",
      "Confusion Matrix: \n",
      " [[88 25]\n",
      " [17 49]]\n",
      "Accuracy Score: 0.7653631284916201 \n",
      "\n",
      "<class 'xgboost.sklearn.XGBClassifier'> is getting evaluated\n",
      "Cross Validation Score: 0.783334379511644\n",
      "Confusion Matrix: \n",
      " [[90 23]\n",
      " [19 47]]\n",
      "Accuracy Score: 0.7653631284916201 \n",
      "\n",
      "<class 'sklearn.svm._classes.SVC'> is getting evaluated\n",
      "Cross Validation Score: 0.8068984997803025\n",
      "Confusion Matrix: \n",
      " [[98 15]\n",
      " [19 47]]\n",
      "Accuracy Score: 0.8100558659217877 \n",
      "\n",
      "<class 'sklearn.linear_model._logistic.LogisticRegression'> is getting evaluated\n",
      "Cross Validation Score: 0.792285481137405\n",
      "Confusion Matrix: \n",
      " [[98 15]\n",
      " [19 47]]\n",
      "Accuracy Score: 0.8100558659217877 \n",
      "\n"
     ]
    }
   ],
   "source": [
    "from sklearn.model_selection import train_test_split, cross_val_score\n",
    "from sklearn.metrics import accuracy_score, confusion_matrix\n",
    "\n",
    "for model in MODELS:\n",
    "    X_train, X_test, y_train, y_test = train_test_split(X_normalized, y_normalized, test_size=0.2, random_state=532)\n",
    "\n",
    "    print(type(model), \"is getting evaluated\")\n",
    "    model.fit(X_train, y_train)\n",
    "    \n",
    "    y_pred = model.predict(X_test)\n",
    "    print('Cross Validation Score:', cross_val_score(model, X_normalized, y_normalized).mean())\n",
    "    print('Confusion Matrix: \\n', confusion_matrix(y_test, y_pred))\n",
    "    print('Accuracy Score:', accuracy_score(y_test, y_pred), '\\n')"
   ]
  },
  {
   "cell_type": "markdown",
   "metadata": {},
   "source": [
    "The ***KNN***, ***XGBoost***, ***SVC*** and the ***Logistic Regression*** seem quite good to be tunned."
   ]
  },
  {
   "cell_type": "markdown",
   "metadata": {},
   "source": [
    "#### Training on the standardized dataset"
   ]
  },
  {
   "cell_type": "code",
   "execution_count": 10,
   "metadata": {},
   "outputs": [
    {
     "name": "stdout",
     "output_type": "stream",
     "text": [
      "<class 'sklearn.neighbors._classification.KNeighborsClassifier'> is getting evaluated\n",
      "Cross Validation Score: 0.7979222898750863\n",
      "Confusion Matrix: \n",
      " [[100  13]\n",
      " [ 15  51]]\n",
      "Accuracy Score: 0.8435754189944135 \n",
      "\n",
      "<class 'sklearn.ensemble._forest.RandomForestClassifier'> is getting evaluated\n",
      "Cross Validation Score: 0.7676291507124474\n",
      "Confusion Matrix: \n",
      " [[98 15]\n",
      " [16 50]]\n",
      "Accuracy Score: 0.8268156424581006 \n",
      "\n",
      "<class 'sklearn.tree._classes.DecisionTreeClassifier'> is getting evaluated\n",
      "Cross Validation Score: 0.7463184985248885\n",
      "Confusion Matrix: \n",
      " [[90 23]\n",
      " [17 49]]\n",
      "Accuracy Score: 0.776536312849162 \n",
      "\n",
      "<class 'xgboost.sklearn.XGBClassifier'> is getting evaluated\n",
      "Cross Validation Score: 0.7788337204193083\n",
      "Confusion Matrix: \n",
      " [[100  13]\n",
      " [ 17  49]]\n",
      "Accuracy Score: 0.8324022346368715 \n",
      "\n",
      "<class 'sklearn.svm._classes.SVC'> is getting evaluated\n",
      "Cross Validation Score: 0.8170045822610005\n",
      "Confusion Matrix: \n",
      " [[100  13]\n",
      " [ 16  50]]\n",
      "Accuracy Score: 0.8379888268156425 \n",
      "\n",
      "<class 'sklearn.linear_model._logistic.LogisticRegression'> is getting evaluated\n",
      "Cross Validation Score: 0.7922792040675413\n",
      "Confusion Matrix: \n",
      " [[98 15]\n",
      " [20 46]]\n",
      "Accuracy Score: 0.8044692737430168 \n",
      "\n"
     ]
    }
   ],
   "source": [
    "from sklearn.model_selection import train_test_split, cross_val_score\n",
    "from sklearn.metrics import accuracy_score, confusion_matrix\n",
    "\n",
    "for model in MODELS:\n",
    "    X_train, X_test, y_train, y_test = train_test_split(X_standardized, y_standardized, test_size=0.2, random_state=532)\n",
    "\n",
    "    print(type(model), \"is getting evaluated\")\n",
    "    model.fit(X_train, y_train)\n",
    "    \n",
    "    y_pred = model.predict(X_test)\n",
    "    print('Cross Validation Score:', cross_val_score(model, X_standardized, y_standardized).mean())\n",
    "    print('Confusion Matrix: \\n', confusion_matrix(y_test, y_pred))\n",
    "    print('Accuracy Score:', accuracy_score(y_test, y_pred), '\\n')"
   ]
  },
  {
   "cell_type": "markdown",
   "metadata": {},
   "source": [
    "The ***KNN***, ***SVC*** and the ***Logistic Regression*** seem again to be the best ones to be tuned."
   ]
  },
  {
   "cell_type": "markdown",
   "metadata": {},
   "source": [
    "### Parameter Tuning"
   ]
  },
  {
   "cell_type": "markdown",
   "metadata": {},
   "source": [
    "### Conclusion"
   ]
  }
 ],
 "metadata": {
  "kernelspec": {
   "display_name": "Python 3",
   "language": "python",
   "name": "python3"
  },
  "language_info": {
   "codemirror_mode": {
    "name": "ipython",
    "version": 3
   },
   "file_extension": ".py",
   "mimetype": "text/x-python",
   "name": "python",
   "nbconvert_exporter": "python",
   "pygments_lexer": "ipython3",
   "version": "3.12.2"
  }
 },
 "nbformat": 4,
 "nbformat_minor": 2
}
